{
 "cells": [
  {
   "cell_type": "code",
   "execution_count": 2,
   "id": "5426e952",
   "metadata": {},
   "outputs": [
    {
     "name": "stdout",
     "output_type": "stream",
     "text": [
      "Collecting torch\n",
      "  Using cached torch-1.13.1-cp39-cp39-win_amd64.whl (162.5 MB)\n",
      "Requirement already satisfied: typing-extensions in c:\\users\\harsh\\miniconda3\\lib\\site-packages (from torch) (4.3.0)\n",
      "Installing collected packages: torch\n",
      "Successfully installed torch-1.13.1\n"
     ]
    }
   ],
   "source": [
    "!pip install torch"
   ]
  },
  {
   "cell_type": "code",
   "execution_count": 5,
   "id": "378be770",
   "metadata": {},
   "outputs": [
    {
     "name": "stdout",
     "output_type": "stream",
     "text": [
      "1.13.1+cpu\n"
     ]
    }
   ],
   "source": [
    "# Install required packages.\n",
    "import os\n",
    "import torch\n",
    "os.environ['TORCH'] = torch.__version__\n",
    "print(torch.__version__)\n",
    "\n",
    "!pip install -q torch-scatter -f https://data.pyg.org/whl/torch-${TORCH}.html\n",
    "!pip install -q torch-sparse==0.6.13 -f https://data.pyg.org/whl/torch-${TORCH}.html\n",
    "!pip install -q git+https://github.com/pyg-team/pytorch_geometric.git\n"
   ]
  },
  {
   "cell_type": "code",
   "execution_count": 19,
   "id": "bf991fbc",
   "metadata": {},
   "outputs": [
    {
     "name": "stdout",
     "output_type": "stream",
     "text": [
      "Collecting networkx\n",
      "  Downloading networkx-2.8.8-py3-none-any.whl (2.0 MB)\n",
      "Installing collected packages: networkx\n",
      "Successfully installed networkx-2.8.8\n"
     ]
    }
   ],
   "source": [
    "!pip install networkx"
   ]
  },
  {
   "cell_type": "code",
   "execution_count": 21,
   "id": "69cf1858",
   "metadata": {},
   "outputs": [
    {
     "name": "stdout",
     "output_type": "stream",
     "text": [
      "Requirement already satisfied: matplotlib in c:\\users\\harsh\\miniconda3\\lib\\site-packages (3.6.0)\n",
      "Requirement already satisfied: pyparsing>=2.2.1 in c:\\users\\harsh\\miniconda3\\lib\\site-packages (from matplotlib) (3.0.9)\n",
      "Requirement already satisfied: pillow>=6.2.0 in c:\\users\\harsh\\miniconda3\\lib\\site-packages (from matplotlib) (9.2.0)\n",
      "Requirement already satisfied: kiwisolver>=1.0.1 in c:\\users\\harsh\\miniconda3\\lib\\site-packages (from matplotlib) (1.4.4)\n",
      "Requirement already satisfied: cycler>=0.10 in c:\\users\\harsh\\miniconda3\\lib\\site-packages (from matplotlib) (0.11.0)\n",
      "Requirement already satisfied: fonttools>=4.22.0 in c:\\users\\harsh\\miniconda3\\lib\\site-packages (from matplotlib) (4.37.3)\n",
      "Requirement already satisfied: python-dateutil>=2.7 in c:\\users\\harsh\\miniconda3\\lib\\site-packages (from matplotlib) (2.8.2)\n",
      "Requirement already satisfied: packaging>=20.0 in c:\\users\\harsh\\miniconda3\\lib\\site-packages (from matplotlib) (21.3)\n",
      "Requirement already satisfied: numpy>=1.19 in c:\\users\\harsh\\miniconda3\\lib\\site-packages (from matplotlib) (1.23.3)\n",
      "Requirement already satisfied: contourpy>=1.0.1 in c:\\users\\harsh\\miniconda3\\lib\\site-packages (from matplotlib) (1.0.5)\n",
      "Requirement already satisfied: six>=1.5 in c:\\users\\harsh\\miniconda3\\lib\\site-packages (from python-dateutil>=2.7->matplotlib) (1.16.0)\n"
     ]
    }
   ],
   "source": [
    "!pip install matplotlib"
   ]
  },
  {
   "cell_type": "code",
   "execution_count": 1,
   "id": "1dfadb5b",
   "metadata": {},
   "outputs": [],
   "source": [
    "from torch_geometric.datasets import TUDataset"
   ]
  },
  {
   "cell_type": "code",
   "execution_count": 2,
   "id": "9b159c5d",
   "metadata": {},
   "outputs": [],
   "source": [
    "dataset = TUDataset(root='',name='ENZYMES')"
   ]
  },
  {
   "cell_type": "code",
   "execution_count": 3,
   "id": "53402a14",
   "metadata": {},
   "outputs": [
    {
     "data": {
      "text/plain": [
       "['__add__',\n",
       " '__class__',\n",
       " '__class_getitem__',\n",
       " '__delattr__',\n",
       " '__dict__',\n",
       " '__dir__',\n",
       " '__doc__',\n",
       " '__eq__',\n",
       " '__format__',\n",
       " '__ge__',\n",
       " '__getattribute__',\n",
       " '__getitem__',\n",
       " '__gt__',\n",
       " '__hash__',\n",
       " '__init__',\n",
       " '__init_subclass__',\n",
       " '__le__',\n",
       " '__len__',\n",
       " '__lt__',\n",
       " '__module__',\n",
       " '__ne__',\n",
       " '__new__',\n",
       " '__orig_bases__',\n",
       " '__parameters__',\n",
       " '__reduce__',\n",
       " '__reduce_ex__',\n",
       " '__repr__',\n",
       " '__setattr__',\n",
       " '__sizeof__',\n",
       " '__slots__',\n",
       " '__str__',\n",
       " '__subclasshook__',\n",
       " '__weakref__',\n",
       " '_data_list',\n",
       " '_download',\n",
       " '_indices',\n",
       " '_infer_num_classes',\n",
       " '_is_protocol',\n",
       " '_process',\n",
       " 'cleaned',\n",
       " 'cleaned_url',\n",
       " 'collate',\n",
       " 'copy',\n",
       " 'data',\n",
       " 'download',\n",
       " 'get',\n",
       " 'get_summary',\n",
       " 'index_select',\n",
       " 'indices',\n",
       " 'len',\n",
       " 'log',\n",
       " 'name',\n",
       " 'num_classes',\n",
       " 'num_edge_attributes',\n",
       " 'num_edge_features',\n",
       " 'num_edge_labels',\n",
       " 'num_features',\n",
       " 'num_node_attributes',\n",
       " 'num_node_features',\n",
       " 'num_node_labels',\n",
       " 'pre_filter',\n",
       " 'pre_transform',\n",
       " 'print_summary',\n",
       " 'process',\n",
       " 'processed_dir',\n",
       " 'processed_file_names',\n",
       " 'processed_paths',\n",
       " 'raw_dir',\n",
       " 'raw_file_names',\n",
       " 'raw_paths',\n",
       " 'root',\n",
       " 'shuffle',\n",
       " 'sizes',\n",
       " 'slices',\n",
       " 'transform',\n",
       " 'url']"
      ]
     },
     "execution_count": 3,
     "metadata": {},
     "output_type": "execute_result"
    }
   ],
   "source": [
    "dir(dataset)"
   ]
  },
  {
   "cell_type": "code",
   "execution_count": 11,
   "id": "659bd90a",
   "metadata": {},
   "outputs": [
    {
     "data": {
      "text/plain": [
       "6"
      ]
     },
     "execution_count": 11,
     "metadata": {},
     "output_type": "execute_result"
    }
   ],
   "source": [
    "dataset.num_classes"
   ]
  },
  {
   "cell_type": "code",
   "execution_count": 40,
   "id": "b7c72e1a",
   "metadata": {},
   "outputs": [
    {
     "data": {
      "text/plain": [
       "Data(edge_index=[2, 168], x=[37, 3], y=[1])"
      ]
     },
     "execution_count": 40,
     "metadata": {},
     "output_type": "execute_result"
    }
   ],
   "source": [
    "dataset[0]\n",
    "\n",
    "# x: Node feature matrix with shape [num_nodes, num_node_features]\n",
    "# y: Target to train against (may have arbitrary shape), e.g., node-level targets of shape\n",
    "\n",
    "# edge_index: has 2 tensors, to represent the end points of an edge\n",
    "# Example\n",
    "# edge_index[0][i] = node1\n",
    "# edge_index[0][i] = node2\n",
    "# graph.edges[i] = (node1, node2)"
   ]
  },
  {
   "cell_type": "code",
   "execution_count": 41,
   "id": "8d7895f5",
   "metadata": {},
   "outputs": [],
   "source": [
    "from torch_geometric.utils import to_networkx "
   ]
  },
  {
   "cell_type": "code",
   "execution_count": 42,
   "id": "9f4a2871",
   "metadata": {},
   "outputs": [],
   "source": [
    "graph = to_networkx(dataset[4])"
   ]
  },
  {
   "cell_type": "code",
   "execution_count": 43,
   "id": "cbf84f50",
   "metadata": {},
   "outputs": [
    {
     "data": {
      "image/png": "[encoded data removed]",
      "text/plain": [
       "<Figure size 640x480 with 1 Axes>"
      ]
     },
     "metadata": {},
     "output_type": "display_data"
    }
   ],
   "source": [
    "import matplotlib.pyplot as plt\n",
    "import networkx as nx\n",
    "nx.draw(graph)\n",
    "plt.show()"
   ]
  },
  {
   "cell_type": "code",
   "execution_count": 44,
   "id": "8fff1bff",
   "metadata": {},
   "outputs": [
    {
     "data": {
      "text/plain": [
       "NodeView((0, 1, 2, 3, 4, 5, 6, 7, 8, 9, 10, 11, 12, 13, 14, 15, 16, 17, 18, 19, 20, 21, 22))"
      ]
     },
     "execution_count": 44,
     "metadata": {},
     "output_type": "execute_result"
    }
   ],
   "source": [
    "graph.nodes"
   ]
  },
  {
   "cell_type": "code",
   "execution_count": 45,
   "id": "acd0da6d",
   "metadata": {},
   "outputs": [
    {
     "data": {
      "text/plain": [
       "OutEdgeView([(0, 1), (0, 2), (0, 20), (1, 0), (1, 2), (1, 20), (2, 0), (2, 1), (2, 3), (2, 4), (2, 19), (2, 20), (3, 2), (3, 4), (3, 19), (4, 2), (4, 3), (4, 5), (4, 18), (5, 4), (5, 6), (5, 7), (5, 18), (6, 5), (6, 7), (6, 8), (6, 18), (7, 5), (7, 6), (7, 8), (7, 9), (7, 10), (7, 18), (8, 6), (8, 7), (8, 9), (8, 10), (9, 7), (9, 8), (9, 10), (10, 7), (10, 8), (10, 9), (10, 11), (10, 21), (10, 22), (11, 10), (11, 21), (11, 22), (12, 13), (12, 14), (12, 15), (12, 22), (13, 12), (13, 14), (13, 15), (14, 12), (14, 13), (14, 15), (14, 16), (14, 17), (15, 12), (15, 13), (15, 14), (15, 16), (15, 17), (16, 14), (16, 15), (16, 17), (17, 14), (17, 15), (17, 16), (18, 4), (18, 5), (18, 6), (18, 7), (19, 2), (19, 3), (19, 20), (20, 0), (20, 1), (20, 2), (20, 19), (21, 10), (21, 11), (21, 22), (22, 10), (22, 11), (22, 12), (22, 21)])"
      ]
     },
     "execution_count": 45,
     "metadata": {},
     "output_type": "execute_result"
    }
   ],
   "source": [
    "graph.edges"
   ]
  },
  {
   "cell_type": "code",
   "execution_count": 46,
   "id": "ccbea9f9",
   "metadata": {},
   "outputs": [
    {
     "data": {
      "text/plain": [
       "array([[0., 1., 1., 0., 0., 0., 0., 0., 0., 0., 0., 0., 0., 0., 0., 0.,\n",
       "        0., 0., 0., 0., 1., 0., 0.],\n",
       "       [1., 0., 1., 0., 0., 0., 0., 0., 0., 0., 0., 0., 0., 0., 0., 0.,\n",
       "        0., 0., 0., 0., 1., 0., 0.],\n",
       "       [1., 1., 0., 1., 1., 0., 0., 0., 0., 0., 0., 0., 0., 0., 0., 0.,\n",
       "        0., 0., 0., 1., 1., 0., 0.],\n",
       "       [0., 0., 1., 0., 1., 0., 0., 0., 0., 0., 0., 0., 0., 0., 0., 0.,\n",
       "        0., 0., 0., 1., 0., 0., 0.],\n",
       "       [0., 0., 1., 1., 0., 1., 0., 0., 0., 0., 0., 0., 0., 0., 0., 0.,\n",
       "        0., 0., 1., 0., 0., 0., 0.],\n",
       "       [0., 0., 0., 0., 1., 0., 1., 1., 0., 0., 0., 0., 0., 0., 0., 0.,\n",
       "        0., 0., 1., 0., 0., 0., 0.],\n",
       "       [0., 0., 0., 0., 0., 1., 0., 1., 1., 0., 0., 0., 0., 0., 0., 0.,\n",
       "        0., 0., 1., 0., 0., 0., 0.],\n",
       "       [0., 0., 0., 0., 0., 1., 1., 0., 1., 1., 1., 0., 0., 0., 0., 0.,\n",
       "        0., 0., 1., 0., 0., 0., 0.],\n",
       "       [0., 0., 0., 0., 0., 0., 1., 1., 0., 1., 1., 0., 0., 0., 0., 0.,\n",
       "        0., 0., 0., 0., 0., 0., 0.],\n",
       "       [0., 0., 0., 0., 0., 0., 0., 1., 1., 0., 1., 0., 0., 0., 0., 0.,\n",
       "        0., 0., 0., 0., 0., 0., 0.],\n",
       "       [0., 0., 0., 0., 0., 0., 0., 1., 1., 1., 0., 1., 0., 0., 0., 0.,\n",
       "        0., 0., 0., 0., 0., 1., 1.],\n",
       "       [0., 0., 0., 0., 0., 0., 0., 0., 0., 0., 1., 0., 0., 0., 0., 0.,\n",
       "        0., 0., 0., 0., 0., 1., 1.],\n",
       "       [0., 0., 0., 0., 0., 0., 0., 0., 0., 0., 0., 0., 0., 1., 1., 1.,\n",
       "        0., 0., 0., 0., 0., 0., 1.],\n",
       "       [0., 0., 0., 0., 0., 0., 0., 0., 0., 0., 0., 0., 1., 0., 1., 1.,\n",
       "        0., 0., 0., 0., 0., 0., 0.],\n",
       "       [0., 0., 0., 0., 0., 0., 0., 0., 0., 0., 0., 0., 1., 1., 0., 1.,\n",
       "        1., 1., 0., 0., 0., 0., 0.],\n",
       "       [0., 0., 0., 0., 0., 0., 0., 0., 0., 0., 0., 0., 1., 1., 1., 0.,\n",
       "        1., 1., 0., 0., 0., 0., 0.],\n",
       "       [0., 0., 0., 0., 0., 0., 0., 0., 0., 0., 0., 0., 0., 0., 1., 1.,\n",
       "        0., 1., 0., 0., 0., 0., 0.],\n",
       "       [0., 0., 0., 0., 0., 0., 0., 0., 0., 0., 0., 0., 0., 0., 1., 1.,\n",
       "        1., 0., 0., 0., 0., 0., 0.],\n",
       "       [0., 0., 0., 0., 1., 1., 1., 1., 0., 0., 0., 0., 0., 0., 0., 0.,\n",
       "        0., 0., 0., 0., 0., 0., 0.],\n",
       "       [0., 0., 1., 1., 0., 0., 0., 0., 0., 0., 0., 0., 0., 0., 0., 0.,\n",
       "        0., 0., 0., 0., 1., 0., 0.],\n",
       "       [1., 1., 1., 0., 0., 0., 0., 0., 0., 0., 0., 0., 0., 0., 0., 0.,\n",
       "        0., 0., 0., 1., 0., 0., 0.],\n",
       "       [0., 0., 0., 0., 0., 0., 0., 0., 0., 0., 1., 1., 0., 0., 0., 0.,\n",
       "        0., 0., 0., 0., 0., 0., 1.],\n",
       "       [0., 0., 0., 0., 0., 0., 0., 0., 0., 0., 1., 1., 1., 0., 0., 0.,\n",
       "        0., 0., 0., 0., 0., 1., 0.]])"
      ]
     },
     "execution_count": 46,
     "metadata": {},
     "output_type": "execute_result"
    }
   ],
   "source": [
    "nx.to_numpy_array(graph)"
   ]
  },
  {
   "cell_type": "code",
   "execution_count": 47,
   "id": "ddb7e27b",
   "metadata": {},
   "outputs": [
    {
     "data": {
      "text/plain": [
       "600"
      ]
     },
     "execution_count": 47,
     "metadata": {},
     "output_type": "execute_result"
    }
   ],
   "source": [
    "len(dataset)"
   ]
  },
  {
   "cell_type": "code",
   "execution_count": 48,
   "id": "cc332a52",
   "metadata": {},
   "outputs": [
    {
     "data": {
      "text/plain": [
       "3"
      ]
     },
     "execution_count": 48,
     "metadata": {},
     "output_type": "execute_result"
    }
   ],
   "source": [
    "dataset.num_features"
   ]
  },
  {
   "cell_type": "code",
   "execution_count": 49,
   "id": "f8025bdf",
   "metadata": {},
   "outputs": [
    {
     "data": {
      "text/plain": [
       "0"
      ]
     },
     "execution_count": 49,
     "metadata": {},
     "output_type": "execute_result"
    }
   ],
   "source": [
    "dataset.num_edge_attributes"
   ]
  },
  {
   "cell_type": "code",
   "execution_count": 50,
   "id": "08c0eca1",
   "metadata": {},
   "outputs": [
    {
     "data": {
      "text/plain": [
       "0"
      ]
     },
     "execution_count": 50,
     "metadata": {},
     "output_type": "execute_result"
    }
   ],
   "source": [
    "dataset.num_edge_labels"
   ]
  },
  {
   "cell_type": "code",
   "execution_count": 51,
   "id": "706cdb29",
   "metadata": {},
   "outputs": [
    {
     "data": {
      "text/plain": [
       "3"
      ]
     },
     "execution_count": 51,
     "metadata": {},
     "output_type": "execute_result"
    }
   ],
   "source": [
    "dataset.num_node_features"
   ]
  },
  {
   "cell_type": "code",
   "execution_count": 52,
   "id": "617566de",
   "metadata": {},
   "outputs": [
    {
     "data": {
      "text/plain": [
       "3"
      ]
     },
     "execution_count": 52,
     "metadata": {},
     "output_type": "execute_result"
    }
   ],
   "source": [
    "dataset.num_node_labels"
   ]
  },
  {
   "cell_type": "code",
   "execution_count": 53,
   "id": "f27bd466",
   "metadata": {},
   "outputs": [
    {
     "data": {
      "text/plain": [
       "18"
      ]
     },
     "execution_count": 53,
     "metadata": {},
     "output_type": "execute_result"
    }
   ],
   "source": [
    "dataset.num_node_attributes"
   ]
  },
  {
   "cell_type": "code",
   "execution_count": 59,
   "id": "aeb35e9b",
   "metadata": {},
   "outputs": [
    {
     "name": "stdout",
     "output_type": "stream",
     "text": [
      "tensor([ 0,  0,  0,  ..., 63, 63, 63])\n"
     ]
    }
   ],
   "source": [
    "from torch_geometric.data import DataLoader\n",
    "batch_size = 64\n",
    "data_load = DataLoader(dataset, batch_size=batch_size,shuffle=True)\n",
    "for batch in data_load:\n",
    "    print(batch.batch)\n",
    "    break"
   ]
  },
  {
   "cell_type": "code",
   "execution_count": 64,
   "id": "ecff29e7",
   "metadata": {},
   "outputs": [
    {
     "name": "stdout",
     "output_type": "stream",
     "text": [
      "tensor(1946.)\n",
      "tensor([[0.6207, 0.3793, 0.0000],\n",
      "        [0.3478, 0.6522, 0.0000],\n",
      "        [0.5122, 0.4878, 0.0000],\n",
      "        [0.5385, 0.4615, 0.0000],\n",
      "        [0.6429, 0.3571, 0.0000],\n",
      "        [0.1667, 0.8333, 0.0000],\n",
      "        [0.5000, 0.5000, 0.0000],\n",
      "        [0.3478, 0.6522, 0.0000],\n",
      "        [0.4750, 0.5250, 0.0000],\n",
      "        [0.5000, 0.5000, 0.0000],\n",
      "        [0.2683, 0.7317, 0.0000],\n",
      "        [0.3333, 0.6667, 0.0000],\n",
      "        [0.6400, 0.3600, 0.0000],\n",
      "        [0.1875, 0.8125, 0.0000],\n",
      "        [0.3846, 0.6154, 0.0000],\n",
      "        [1.0000, 0.0000, 0.0000],\n",
      "        [0.8947, 0.1053, 0.0000],\n",
      "        [0.5769, 0.4231, 0.0000],\n",
      "        [0.4667, 0.5333, 0.0000],\n",
      "        [0.2500, 0.7500, 0.0000],\n",
      "        [0.6250, 0.3750, 0.0000],\n",
      "        [0.4074, 0.5926, 0.0000],\n",
      "        [0.3462, 0.6538, 0.0000],\n",
      "        [0.7407, 0.2593, 0.0000],\n",
      "        [0.4074, 0.5926, 0.0000],\n",
      "        [0.5500, 0.4500, 0.0000],\n",
      "        [0.5926, 0.4074, 0.0000],\n",
      "        [0.7857, 0.2143, 0.0000],\n",
      "        [0.4000, 0.6000, 0.0000],\n",
      "        [0.5500, 0.4500, 0.0000],\n",
      "        [0.5781, 0.4219, 0.0000],\n",
      "        [0.4390, 0.5610, 0.0000],\n",
      "        [0.7059, 0.2941, 0.0000],\n",
      "        [0.2308, 0.7692, 0.0000],\n",
      "        [0.5556, 0.4444, 0.0000],\n",
      "        [0.0588, 0.5882, 0.3529],\n",
      "        [0.3333, 0.6667, 0.0000],\n",
      "        [0.5000, 0.5000, 0.0000],\n",
      "        [0.6923, 0.3077, 0.0000],\n",
      "        [0.5000, 0.5000, 0.0000],\n",
      "        [0.7586, 0.2414, 0.0000],\n",
      "        [0.1429, 0.8571, 0.0000],\n",
      "        [0.3462, 0.6538, 0.0000],\n",
      "        [0.2500, 0.7500, 0.0000],\n",
      "        [0.7647, 0.2353, 0.0000],\n",
      "        [0.4000, 0.6000, 0.0000],\n",
      "        [0.5926, 0.4074, 0.0000],\n",
      "        [0.1724, 0.8276, 0.0000],\n",
      "        [0.5588, 0.4412, 0.0000],\n",
      "        [0.2857, 0.7143, 0.0000],\n",
      "        [0.6429, 0.3571, 0.0000],\n",
      "        [0.5926, 0.4074, 0.0000],\n",
      "        [0.5789, 0.4211, 0.0000],\n",
      "        [0.3333, 0.6667, 0.0000],\n",
      "        [0.5238, 0.4762, 0.0000],\n",
      "        [0.5455, 0.4545, 0.0000],\n",
      "        [0.7917, 0.2083, 0.0000],\n",
      "        [0.3947, 0.6053, 0.0000],\n",
      "        [0.2800, 0.7200, 0.0000],\n",
      "        [0.2308, 0.3846, 0.3846],\n",
      "        [0.6190, 0.3810, 0.0000],\n",
      "        [0.0769, 0.1538, 0.7692],\n",
      "        [0.3889, 0.6111, 0.0000],\n",
      "        [0.3636, 0.6364, 0.0000]])\n"
     ]
    }
   ],
   "source": [
    "from torch_scatter import scatter_mean\n",
    "from torch_geometric.data import DataLoader\n",
    "batch_size = 64\n",
    "data_load = DataLoader(dataset, batch_size=batch_size,shuffle=True)\n",
    "for batch in data_load:\n",
    "    print(batch.x)\n",
    "    # Feature averaging,\n",
    "    # https://raw.githubusercontent.com/rusty1s/pytorch_scatter/master/docs/source/_figures/mean.svg?sanitize=true\n",
    "    x = scatter_mean(batch.x, batch.batch, dim=0)\n",
    "    print(x)\n",
    "    break"
   ]
  },
  {
   "cell_type": "code",
   "execution_count": 76,
   "id": "26ec71c4",
   "metadata": {},
   "outputs": [
    {
     "data": {
      "image/png": "[encoded data removed]",
      "text/plain": [
       "<Figure size 640x480 with 1 Axes>"
      ]
     },
     "metadata": {},
     "output_type": "display_data"
    }
   ],
   "source": [
    "from torch_geometric.transforms import Constant, Distance\n",
    "g = to_networkx(dataset[0])\n",
    "c = Constant()\n",
    "# g = to_networkx(c(dataset[0]))\n",
    "nx.draw(g)\n",
    "plt.show()"
   ]
  },
  {
   "cell_type": "code",
   "execution_count": null,
   "id": "522190ff",
   "metadata": {},
   "outputs": [],
   "source": []
  }
 ],
 "metadata": {
  "kernelspec": {
   "display_name": "Python 3 (ipykernel)",
   "language": "python",
   "name": "python3"
  },
  "language_info": {
   "codemirror_mode": {
    "name": "ipython",
    "version": 3
   },
   "file_extension": ".py",
   "mimetype": "text/x-python",
   "name": "python",
   "nbconvert_exporter": "python",
   "pygments_lexer": "ipython3",
   "version": "3.9.12"
  }
 },
 "nbformat": 4,
 "nbformat_minor": 5
}

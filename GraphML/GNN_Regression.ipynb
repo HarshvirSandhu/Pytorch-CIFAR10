{
 "cells": [
  {
   "cell_type": "code",
   "execution_count": 127,
   "id": "b78aecf4",
   "metadata": {},
   "outputs": [
    {
     "name": "stdout",
     "output_type": "stream",
     "text": [
      "Requirement already satisfied: rdkit in c:\\users\\harsh\\miniconda3\\lib\\site-packages (2022.9.3)\n",
      "Requirement already satisfied: Pillow in c:\\users\\harsh\\miniconda3\\lib\\site-packages (from rdkit) (9.2.0)\n",
      "Requirement already satisfied: numpy in c:\\users\\harsh\\miniconda3\\lib\\site-packages (from rdkit) (1.23.3)\n"
     ]
    }
   ],
   "source": [
    "!pip install rdkit"
   ]
  },
  {
   "cell_type": "code",
   "execution_count": 128,
   "id": "5973bad9",
   "metadata": {},
   "outputs": [
    {
     "data": {
      "text/plain": [
       "(9, 734)"
      ]
     },
     "execution_count": 128,
     "metadata": {},
     "output_type": "execute_result"
    }
   ],
   "source": [
    "from torch_geometric.datasets import MoleculeNet\n",
    "dataset = MoleculeNet(root='', name='ESOL')\n",
    "dataset.num_features, dataset.num_classes "
   ]
  },
  {
   "cell_type": "code",
   "execution_count": 129,
   "id": "1aeff745",
   "metadata": {},
   "outputs": [
    {
     "data": {
      "image/png": "[encoded data removed]",
      "text/plain": [
       "<Figure size 640x480 with 1 Axes>"
      ]
     },
     "metadata": {},
     "output_type": "display_data"
    }
   ],
   "source": [
    "from torch_geometric.utils import to_networkx\n",
    "import networkx as nx\n",
    "import matplotlib.pyplot as plt\n",
    "nx.draw(to_networkx(dataset[1]))\n",
    "plt.show()"
   ]
  },
  {
   "cell_type": "code",
   "execution_count": 130,
   "id": "20bb495b",
   "metadata": {},
   "outputs": [],
   "source": [
    "from torch_geometric.loader import DataLoader\n",
    "data_load = DataLoader(dataset, batch_size=32, drop_last=True)"
   ]
  },
  {
   "cell_type": "code",
   "execution_count": 131,
   "id": "b79b864f",
   "metadata": {},
   "outputs": [
    {
     "name": "stdout",
     "output_type": "stream",
     "text": [
      "DataBatch(x=[452, 9], edge_index=[2, 938], edge_attr=[938, 3], smiles=[32], y=[32, 1], batch=[452], ptr=[33]) 35 1128\n"
     ]
    }
   ],
   "source": [
    "for batch in data_load:\n",
    "    print(batch, len(data_load), len(dataset))\n",
    "    break"
   ]
  },
  {
   "cell_type": "code",
   "execution_count": 132,
   "id": "db8240eb",
   "metadata": {},
   "outputs": [],
   "source": [
    "import torch\n",
    "import torch_geometric\n",
    "# from torch_scatter import scatter_mean\n",
    "from torch_geometric.nn import global_mean_pool\n",
    "class Network(torch.nn.Module):\n",
    "    def __init__(self):\n",
    "        super(Network, self).__init__()\n",
    "        self.gnn1 = torch_geometric.nn.GCNConv(dataset.num_features, 4)\n",
    "        self.gnn2 = torch_geometric.nn.GCNConv(4, dataset.num_classes)\n",
    "        self.last = torch.nn.Linear(dataset.num_classes, 1)\n",
    "    def forward(self, x, edge_index, batch):\n",
    "        x = self.gnn1(x, edge_index)\n",
    "        x = torch.nn.functional.relu(x)\n",
    "\n",
    "        x = self.gnn2(x, edge_index)\n",
    "        x = torch.nn.functional.relu(x)\n",
    "        \n",
    "        x = global_mean_pool(x, batch)\n",
    "        x = torch.nn.functional.dropout(x, p=0.3, training=self.training)\n",
    "#         print(x.shape)\n",
    "        return self.last(x)"
   ]
  },
  {
   "cell_type": "code",
   "execution_count": null,
   "id": "4b0e09a1",
   "metadata": {},
   "outputs": [
    {
     "name": "stderr",
     "output_type": "stream",
     "text": [
      "C:\\Users\\harsh\\AppData\\Local\\Temp\\ipykernel_22800\\1259604232.py:10: UserWarning: To copy construct from a tensor, it is recommended to use sourceTensor.clone().detach() or sourceTensor.clone().detach().requires_grad_(True), rather than torch.tensor(sourceTensor).\n",
      "  score = model(torch.tensor(batch.x, dtype=torch.float) , batch.edge_index, batch.batch)\n"
     ]
    },
    {
     "name": "stdout",
     "output_type": "stream",
     "text": [
      "Loss at epoch 1 is: 84.1797103881836\n",
      "Loss at epoch 2 is: 62.107582092285156\n",
      "Loss at epoch 3 is: 46.334476470947266\n",
      "Loss at epoch 4 is: 44.4378776550293\n",
      "Loss at epoch 5 is: 44.00954055786133\n"
     ]
    }
   ],
   "source": [
    "model = Network()\n",
    "model.train()\n",
    "optimizer = torch.optim.Adam(model.parameters(), lr=3e-4)\n",
    "criterion = torch.nn.HuberLoss()\n",
    "num_epochs = 25\n",
    "for epoch in range(1, num_epochs+1):\n",
    "    epoch_loss = 0\n",
    "    for batch in data_load:\n",
    "#         print('num_graphs:',batch.num_graphs)\n",
    "        score = model(torch.tensor(batch.x, dtype=torch.float) , batch.edge_index, batch.batch)\n",
    "#         print(score.shape, batch.y.view(-1).shape)\n",
    "        loss = criterion(score, batch.y)\n",
    "        loss.backward()\n",
    "        optimizer.step()\n",
    "        optimizer.zero_grad()\n",
    "        epoch_loss+=loss\n",
    "    print(f'Loss at epoch {epoch} is: {epoch_loss}')"
   ]
  },
  {
   "cell_type": "code",
   "execution_count": null,
   "id": "fe70df5c",
   "metadata": {},
   "outputs": [],
   "source": [
    "model.eval()\n",
    "print(dataset[4].x.shape)\n",
    "for i in DataLoader(torch.utils.data.Subset(dataset, [4])):\n",
    "    print(model(torch.tensor(i.x, dtype=torch.float), i.edge_index, i.batch), i.y, i.batch)"
   ]
  },
  {
   "cell_type": "code",
   "execution_count": null,
   "id": "162c4471",
   "metadata": {},
   "outputs": [],
   "source": []
  }
 ],
 "metadata": {
  "kernelspec": {
   "display_name": "Python 3 (ipykernel)",
   "language": "python",
   "name": "python3"
  },
  "language_info": {
   "codemirror_mode": {
    "name": "ipython",
    "version": 3
   },
   "file_extension": ".py",
   "mimetype": "text/x-python",
   "name": "python",
   "nbconvert_exporter": "python",
   "pygments_lexer": "ipython3",
   "version": "3.9.12"
  }
 },
 "nbformat": 4,
 "nbformat_minor": 5
}

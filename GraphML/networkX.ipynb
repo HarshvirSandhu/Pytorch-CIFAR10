{
  "nbformat": 4,
  "nbformat_minor": 0,
  "metadata": {
    "colab": {
      "provenance": []
    },
    "kernelspec": {
      "name": "python3",
      "display_name": "Python 3"
    },
    "language_info": {
      "name": "python"
    }
  },
  "cells": [
    {
      "cell_type": "code",
      "source": [
        "import networkx as nx\n",
        "from networkx.readwrite import json_graph\n",
        "import matplotlib.pyplot as plt\n",
        "g = nx.Graph()\n",
        "g.add_nodes_from((1,2,3,4))\n",
        "g.add_edges_from([(2, 3), (1, 2), (2, 4), (1, 1)])\n",
        "nx.draw(g)\n",
        "plt.show()"
      ],
      "metadata": {
        "colab": {
          "base_uri": "https://localhost:8080/",
          "height": 319
        },
        "id": "zn3R_Xs2iEax",
        "outputId": "c70bd684-a6e9-44c7-c90a-d821ec9cc243"
      },
      "execution_count": 1,
      "outputs": [
        {
          "output_type": "display_data",
          "data": {
            "text/plain": [
              "<Figure size 432x288 with 1 Axes>"
            ],
            "image/png": "[encoded data removed]"
          },
          "metadata": {}
        }
      ]
    },
    {
      "cell_type": "code",
      "source": [
        "import networkx as nx\n",
        "import matplotlib.pyplot as plt\n",
        "g = nx.Graph()\n",
        "for i in range(5):\n",
        "    g.add_node(i)\n",
        "for i in range(4):\n",
        "    g.add_edge(i, i+1)\n",
        "nx.draw(g)\n",
        "plt.show()\n",
        "print(g)"
      ],
      "metadata": {
        "colab": {
          "base_uri": "https://localhost:8080/",
          "height": 336
        },
        "id": "AkP3H9IyifE3",
        "outputId": "e21b9cc0-e3c9-45c8-c27c-1b5135ff414d"
      },
      "execution_count": 2,
      "outputs": [
        {
          "output_type": "display_data",
          "data": {
            "text/plain": [
              "<Figure size 432x288 with 1 Axes>"
            ],
            "image/png": "[encoded data removed]"
          },
          "metadata": {}
        },
        {
          "output_type": "stream",
          "name": "stdout",
          "text": [
            "Graph with 5 nodes and 4 edges\n"
          ]
        }
      ]
    },
    {
      "cell_type": "code",
      "source": [
        "from networkx.readwrite import json_graph\n",
        "g = nx.Graph()\n",
        "g.add_nodes_from((1,2,3,4))\n",
        "g.add_edges_from([(2, 3), (1, 2), (1, 1), (4, 4)])\n",
        "json_data = json_graph.node_link_data(g)\n",
        "json_data"
      ],
      "metadata": {
        "colab": {
          "base_uri": "https://localhost:8080/"
        },
        "id": "vrYZq_n8jCLd",
        "outputId": "f3b60ed7-2a08-4d22-c54a-acec5c3b0328"
      },
      "execution_count": 3,
      "outputs": [
        {
          "output_type": "execute_result",
          "data": {
            "text/plain": [
              "{'directed': False,\n",
              " 'multigraph': False,\n",
              " 'graph': {},\n",
              " 'nodes': [{'id': 1}, {'id': 2}, {'id': 3}, {'id': 4}],\n",
              " 'links': [{'source': 1, 'target': 2},\n",
              "  {'source': 1, 'target': 1},\n",
              "  {'source': 2, 'target': 3},\n",
              "  {'source': 4, 'target': 4}]}"
            ]
          },
          "metadata": {},
          "execution_count": 3
        }
      ]
    },
    {
      "cell_type": "code",
      "source": [
        "from networkx.readwrite import json_graph\n",
        "new_graph = json_graph.node_link_graph(json_data)\n",
        "nx.draw(new_graph)\n",
        "plt.show()"
      ],
      "metadata": {
        "colab": {
          "base_uri": "https://localhost:8080/",
          "height": 319
        },
        "id": "6WL7oDLbjbfU",
        "outputId": "ab23c9f1-5af8-4cd3-f7c8-3cec1dbbf181"
      },
      "execution_count": 4,
      "outputs": [
        {
          "output_type": "display_data",
          "data": {
            "text/plain": [
              "<Figure size 432x288 with 1 Axes>"
            ],
            "image/png": "[encoded data removed]"
          },
          "metadata": {}
        }
      ]
    },
    {
      "cell_type": "code",
      "source": [
        "# print(g, new_graph)\n",
        "print(g.number_of_edges())\n",
        "print(g.number_of_nodes())\n",
        "print(g.degree)\n",
        "print(g.nodes, g.edges)\n",
        "print(nx.density(g))\n",
        "# density for undirected graphs = 2m/n(n-1)\n",
        "# density for directed graphs = m/n(n-1)\n",
        "# where n is the number of nodes and m is the number of edges in G."
      ],
      "metadata": {
        "colab": {
          "base_uri": "https://localhost:8080/"
        },
        "id": "b_XNXb8dmA0u",
        "outputId": "445bdf71-b294-41f9-fbb8-8a3286026ca6"
      },
      "execution_count": 5,
      "outputs": [
        {
          "output_type": "stream",
          "name": "stdout",
          "text": [
            "4\n",
            "4\n",
            "[(1, 3), (2, 2), (3, 1), (4, 2)]\n",
            "[1, 2, 3, 4] [(1, 2), (1, 1), (2, 3), (4, 4)]\n",
            "0.6666666666666666\n"
          ]
        }
      ]
    },
    {
      "cell_type": "code",
      "source": [
        "from networkx.classes.function import neighbors\n",
        "print(neighbors(g, 2))\n",
        "\n",
        "for i in g.nodes:\n",
        "    print(i, 'has neighbors:', list(g.neighbors(i)))\n",
        "print(g.is_directed())\n",
        "print(g.is_multigraph())\n",
        "print(g.adj)\n",
        "nx.draw(g)\n",
        "plt.show()"
      ],
      "metadata": {
        "colab": {
          "base_uri": "https://localhost:8080/",
          "height": 458
        },
        "id": "Rf26B7FjmFUL",
        "outputId": "b720d38a-0ac4-4971-97f6-87b47a0d282a"
      },
      "execution_count": 6,
      "outputs": [
        {
          "output_type": "stream",
          "name": "stdout",
          "text": [
            "<dict_keyiterator object at 0x7f2f1b102c70>\n",
            "1 has neighbors: [2, 1]\n",
            "2 has neighbors: [3, 1]\n",
            "3 has neighbors: [2]\n",
            "4 has neighbors: [4]\n",
            "False\n",
            "False\n",
            "{1: {2: {}, 1: {}}, 2: {3: {}, 1: {}}, 3: {2: {}}, 4: {4: {}}}\n"
          ]
        },
        {
          "output_type": "display_data",
          "data": {
            "text/plain": [
              "<Figure size 432x288 with 1 Axes>"
            ],
            "image/png": "[encoded data removed]"
          },
          "metadata": {}
        }
      ]
    },
    {
      "cell_type": "code",
      "source": [
        "dg = nx.DiGraph()\n",
        "dg.add_nodes_from((1,2,3))\n",
        "dg.add_edge(1, 2, weight=1)\n",
        "dg.add_edge(3, 1, weight=-1)\n",
        "dg.add_edge(1, 1, weight=2)\n",
        "nx.draw(dg)\n",
        "plt.show()"
      ],
      "metadata": {
        "colab": {
          "base_uri": "https://localhost:8080/",
          "height": 319
        },
        "id": "nfA_Qpi3mdRJ",
        "outputId": "0a373892-af9d-4323-86d2-6fc956d6bf06"
      },
      "execution_count": 7,
      "outputs": [
        {
          "output_type": "display_data",
          "data": {
            "text/plain": [
              "<Figure size 432x288 with 1 Axes>"
            ],
            "image/png": "[encoded data removed]"
          },
          "metadata": {}
        }
      ]
    },
    {
      "cell_type": "code",
      "execution_count": 8,
      "metadata": {
        "colab": {
          "base_uri": "https://localhost:8080/"
        },
        "id": "1Jhu4EREh9Tr",
        "outputId": "f7b1544e-d426-44e2-99d9-b0a1e74df47d"
      },
      "outputs": [
        {
          "output_type": "stream",
          "name": "stdout",
          "text": [
            "True True\n",
            "Adjacency Matrix\n",
            "[[ 2.  1.  0.]\n",
            " [ 0.  0.  0.]\n",
            " [-1.  0.  0.]]\n",
            "Nodes: [1, 2, 3]  Edges: [(1, 2), (1, 1), (3, 1)]\n",
            "Degree: [(1, 4), (2, 1), (3, 1)] Density:  0.5\n",
            "Order 3\n",
            "1 has neighbors: [2, 1]\n"
          ]
        }
      ],
      "source": [
        "print(dg.is_directed(), nx.is_weighted(dg))\n",
        "print('Adjacency Matrix')\n",
        "print(nx.to_numpy_array(dg))\n",
        "print('Nodes:', dg.nodes, ' Edges:', dg.edges)\n",
        "print('Degree:', dg.degree, \"Density: \", nx.density(dg))\n",
        "print(\"Order\", dg.order())\n",
        "from networkx.classes.function import neighbors\n",
        "print(1, 'has neighbors:', list(neighbors(dg, 1)))\n",
        "plt.show()"
      ]
    },
    {
      "cell_type": "code",
      "source": [
        "graph = nx.Graph()\n",
        "graph.add_nodes_from(('a', 'b', 'c'))\n",
        "graph.add_edges_from([('a', 'b')])\n",
        "nx.draw(graph, with_labels=True, node_color=[1, 0.7, 0.42], cmap=plt.get_cmap('rainbow'), font_color='white')\n",
        "plt.show()"
      ],
      "metadata": {
        "colab": {
          "base_uri": "https://localhost:8080/",
          "height": 319
        },
        "id": "M7gPUIQog2vj",
        "outputId": "7e955f5f-68fd-47bc-ff80-1faaa4379b22"
      },
      "execution_count": 20,
      "outputs": [
        {
          "output_type": "display_data",
          "data": {
            "text/plain": [
              "<Figure size 432x288 with 1 Axes>"
            ],
            "image/png": "[encoded data removed]"
          },
          "metadata": {}
        }
      ]
    },
    {
      "cell_type": "code",
      "source": [
        "# Install required packages.\n",
        "import os\n",
        "import torch\n",
        "os.environ['TORCH'] = torch.__version__\n",
        "print(torch.__version__)\n",
        "\n",
        "!pip install -q torch-scatter -f https://data.pyg.org/whl/torch-${TORCH}.html\n",
        "!pip install -q torch-sparse -f https://data.pyg.org/whl/torch-${TORCH}.html\n",
        "!pip install -q git+https://github.com/pyg-team/pytorch_geometric.git\n",
        "\n",
        "# Helper function for visualization.\n",
        "%matplotlib inline\n",
        "import networkx as nx\n",
        "import matplotlib.pyplot as plt\n",
        "\n",
        "\n",
        "def visualize_graph(G, color):\n",
        "    plt.figure(figsize=(7,7))\n",
        "    plt.xticks([])\n",
        "    plt.yticks([])\n",
        "    nx.draw_networkx(G, pos=nx.spring_layout(G, seed=42), with_labels=False,\n",
        "                     node_color=color, cmap=\"Set2\")\n",
        "    plt.show()\n",
        "\n",
        "\n",
        "def visualize_embedding(h, color, epoch=None, loss=None):\n",
        "    plt.figure(figsize=(7,7))\n",
        "    plt.xticks([])\n",
        "    plt.yticks([])\n",
        "    h = h.detach().cpu().numpy()\n",
        "    plt.scatter(h[:, 0], h[:, 1], s=140, c=color, cmap=\"Set2\")\n",
        "    if epoch is not None and loss is not None:\n",
        "        plt.xlabel(f'Epoch: {epoch}, Loss: {loss.item():.4f}', fontsize=16)\n",
        "    plt.show()"
      ],
      "metadata": {
        "colab": {
          "base_uri": "https://localhost:8080/"
        },
        "id": "ztEoiwMVquJ1",
        "outputId": "e6c24263-10b8-45a7-8a3a-455f95e49725"
      },
      "execution_count": 1,
      "outputs": [
        {
          "output_type": "stream",
          "name": "stdout",
          "text": [
            "1.13.0+cu116\n"
          ]
        }
      ]
    },
    {
      "cell_type": "code",
      "source": [
        "from torch_geometric.datasets import KarateClub\n",
        "\n",
        "dataset = KarateClub()\n",
        "print(f'Dataset: {dataset}:')\n",
        "print('======================')\n",
        "print(f'Number of graphs: {len(dataset)}')\n",
        "print(f'Number of features: {dataset.num_features}')\n",
        "print(f'Number of classes: {dataset.num_classes}')"
      ],
      "metadata": {
        "id": "6Yz6gKn0q_ou"
      },
      "execution_count": null,
      "outputs": []
    },
    {
      "cell_type": "code",
      "source": [],
      "metadata": {
        "id": "M4EWZDEytIKo"
      },
      "execution_count": null,
      "outputs": []
    }
  ]
}
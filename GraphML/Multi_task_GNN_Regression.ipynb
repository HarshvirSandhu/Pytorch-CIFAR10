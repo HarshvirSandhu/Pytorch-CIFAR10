{
 "cells": [
  {
   "cell_type": "code",
   "execution_count": null,
   "id": "b78aecf4",
   "metadata": {},
   "outputs": [],
   "source": []
  },
  {
   "cell_type": "code",
   "execution_count": 1,
   "id": "5973bad9",
   "metadata": {},
   "outputs": [
    {
     "data": {
      "text/plain": [
       "(11, 19)"
      ]
     },
     "execution_count": 1,
     "metadata": {},
     "output_type": "execute_result"
    }
   ],
   "source": [
    "from torch_geometric.datasets import QM9\n",
    "dataset = QM9(root='')\n",
    "dataset.num_features, dataset.num_classes "
   ]
  },
  {
   "cell_type": "code",
   "execution_count": 2,
   "id": "1aeff745",
   "metadata": {},
   "outputs": [
    {
     "data": {
      "image/png": "[encoded data removed]",
      "text/plain": [
       "<Figure size 640x480 with 1 Axes>"
      ]
     },
     "metadata": {},
     "output_type": "display_data"
    }
   ],
   "source": [
    "from torch_geometric.utils import to_networkx\n",
    "import networkx as nx\n",
    "import matplotlib.pyplot as plt\n",
    "nx.draw(to_networkx(dataset[5]))\n",
    "plt.show()"
   ]
  },
  {
   "cell_type": "code",
   "execution_count": 3,
   "id": "20bb495b",
   "metadata": {},
   "outputs": [],
   "source": [
    "from torch_geometric.loader import DataLoader\n",
    "data_load = DataLoader(dataset, batch_size=64, drop_last=True)"
   ]
  },
  {
   "cell_type": "code",
   "execution_count": 4,
   "id": "b22155b9",
   "metadata": {},
   "outputs": [
    {
     "name": "stdout",
     "output_type": "stream",
     "text": [
      "DataBatch(x=[562, 11], edge_index=[2, 1020], edge_attr=[1020, 4], y=[64, 19], pos=[562, 3], z=[562], name=[64], idx=[64], batch=[562], ptr=[65]) 2044 130831\n"
     ]
    }
   ],
   "source": [
    "for batch in data_load:\n",
    "    print(batch, len(data_load), len(dataset))\n",
    "    break"
   ]
  },
  {
   "cell_type": "code",
   "execution_count": 5,
   "id": "428ac14a",
   "metadata": {},
   "outputs": [],
   "source": [
    "import torch\n",
    "import torch_geometric\n",
    "# from torch_scatter import scatter_mean\n",
    "from torch_geometric.nn import global_mean_pool\n",
    "class Network(torch.nn.Module):\n",
    "    def __init__(self, hidden_dim):\n",
    "        super(Network, self).__init__()\n",
    "        self.gnn1 = torch_geometric.nn.GCNConv(dataset.num_features, hidden_dim)\n",
    "        self.gnn2 = torch_geometric.nn.GCNConv(hidden_dim, hidden_dim//2)\n",
    "        self.gnn3 = torch_geometric.nn.GCNConv(hidden_dim//2, dataset.num_classes)\n",
    "\n",
    "    def forward(self, x, edge_index, batch):\n",
    "        x = self.gnn1(x, edge_index)\n",
    "        x = torch.nn.functional.relu(x)\n",
    "\n",
    "        x = self.gnn2(x, edge_index)\n",
    "        x = torch.nn.functional.relu(x)\n",
    "        \n",
    "        x = self.gnn3(x, edge_index)\n",
    "        x = torch.nn.functional.relu(x)\n",
    "        \n",
    "        x = global_mean_pool(x, batch)\n",
    "        x = torch.nn.functional.dropout(x, p=0.5, training=self.training)\n",
    "#         print(x.shape)\n",
    "        return x"
   ]
  },
  {
   "cell_type": "code",
   "execution_count": 6,
   "id": "cda98836",
   "metadata": {},
   "outputs": [
    {
     "name": "stdout",
     "output_type": "stream",
     "text": [
      "torch.Size([64, 19]) torch.Size([64, 19])\n",
      "tensor([[0.0000, 0.0000, 0.0000,  ..., 0.0000, 0.2620, 0.0000],\n",
      "        [0.0000, 0.3554, 0.0000,  ..., 0.0000, 0.1764, 0.0000],\n",
      "        [0.0000, 0.0000, 0.4188,  ..., 0.0000, 0.0000, 0.0000],\n",
      "        ...,\n",
      "        [0.6966, 0.4860, 0.0000,  ..., 0.0000, 0.2344, 0.0429],\n",
      "        [0.7284, 0.0000, 0.3403,  ..., 0.0000, 0.0000, 0.0000],\n",
      "        [0.7377, 0.5519, 0.0000,  ..., 0.0000, 0.0000, 0.0000]],\n",
      "       grad_fn=<MulBackward0>) tensor([[  0.0000,  13.2100, -10.5499,  ..., 157.7118, 157.7100, 157.7070],\n",
      "        [  1.6256,   9.4600,  -6.9933,  ..., 293.6097, 293.5411, 191.3940],\n",
      "        [  1.8511,   6.3100,  -7.9675,  ..., 799.5881, 437.9039, 282.9455],\n",
      "        ...,\n",
      "        [  3.9512,  46.2300,  -8.6532,  ...,   7.9001,   3.9547,   2.8864],\n",
      "        [  2.7429,  42.8700,  -7.3580,  ...,   8.3010,   3.9762,   2.9376],\n",
      "        [  1.3582,  44.0300,  -7.2518,  ...,   8.5592,   3.8995,   2.9187]])\n",
      "tensor(1063.2131, grad_fn=<HuberLossBackward0>)\n"
     ]
    },
    {
     "name": "stderr",
     "output_type": "stream",
     "text": [
      "C:\\Users\\harsh\\AppData\\Local\\Temp\\ipykernel_25996\\1476021716.py:7: UserWarning: To copy construct from a tensor, it is recommended to use sourceTensor.clone().detach() or sourceTensor.clone().detach().requires_grad_(True), rather than torch.tensor(sourceTensor).\n",
      "  score = model(torch.tensor(batch.x, dtype=torch.float) , batch.edge_index, batch.batch)\n"
     ]
    }
   ],
   "source": [
    "hidden_dim = 20\n",
    "model = Network(hidden_dim)\n",
    "optimizer = torch.optim.Adam(model.parameters(), lr=3e-4)\n",
    "criterion = torch.nn.HuberLoss()\n",
    "for batch in data_load:\n",
    "#         print('num_graphs:',batch.num_graphs)\n",
    "        score = model(torch.tensor(batch.x, dtype=torch.float) , batch.edge_index, batch.batch)\n",
    "#         print(score.shape, batch.y.view(-1).shape)\n",
    "        print(score.shape, batch.y.shape)\n",
    "        print(score, batch.y)\n",
    "        loss = criterion(score, batch.y)\n",
    "        print(loss)\n",
    "        break"
   ]
  },
  {
   "cell_type": "code",
   "execution_count": 7,
   "id": "296b61c1",
   "metadata": {},
   "outputs": [
    {
     "name": "stderr",
     "output_type": "stream",
     "text": [
      "C:\\Users\\harsh\\AppData\\Local\\Temp\\ipykernel_25996\\3725276809.py:11: UserWarning: To copy construct from a tensor, it is recommended to use sourceTensor.clone().detach() or sourceTensor.clone().detach().requires_grad_(True), rather than torch.tensor(sourceTensor).\n",
      "  score = model(torch.tensor(batch.x, dtype=torch.float) , batch.edge_index, batch.batch)\n"
     ]
    },
    {
     "name": "stdout",
     "output_type": "stream",
     "text": [
      "Loss at epoch 1 is: 4973834.0\n",
      "Loss at epoch 2 is: 4927118.5\n",
      "Loss at epoch 3 is: 4926787.5\n",
      "Loss at epoch 4 is: 4926751.5\n",
      "Loss at epoch 5 is: 4926769.5\n",
      "Loss at epoch 6 is: 4926588.5\n",
      "Loss at epoch 7 is: 4926288.0\n",
      "Loss at epoch 8 is: 4926329.5\n",
      "Loss at epoch 9 is: 4926186.0\n",
      "Loss at epoch 10 is: 4926129.5\n",
      "Loss at epoch 11 is: 4925970.0\n",
      "Loss at epoch 12 is: 4925848.0\n",
      "Loss at epoch 13 is: 4926018.5\n",
      "Loss at epoch 14 is: 4925582.5\n",
      "Loss at epoch 15 is: 4925709.0\n",
      "Loss at epoch 16 is: 4925760.0\n",
      "Loss at epoch 17 is: 4925510.5\n",
      "Loss at epoch 18 is: 4925335.0\n",
      "Loss at epoch 19 is: 4925481.0\n",
      "Loss at epoch 20 is: 4925388.5\n",
      "Loss at epoch 21 is: 4925193.5\n",
      "Loss at epoch 22 is: 4925562.5\n",
      "Loss at epoch 23 is: 4925312.5\n",
      "Loss at epoch 24 is: 4925284.0\n",
      "Loss at epoch 25 is: 4925003.0\n",
      "Loss at epoch 26 is: 4925185.0\n",
      "Loss at epoch 27 is: 4925001.0\n",
      "Loss at epoch 28 is: 4925138.0\n",
      "Loss at epoch 29 is: 4925270.5\n",
      "Loss at epoch 30 is: 4925008.5\n",
      "Loss at epoch 31 is: 4925089.0\n",
      "Loss at epoch 32 is: 4924958.5\n",
      "Loss at epoch 33 is: 4924884.5\n",
      "Loss at epoch 34 is: 4925056.5\n",
      "Loss at epoch 35 is: 4925046.5\n",
      "Loss at epoch 36 is: 4924846.5\n",
      "Loss at epoch 37 is: 4924787.5\n",
      "Loss at epoch 38 is: 4924997.5\n",
      "Loss at epoch 39 is: 4924995.5\n",
      "Loss at epoch 40 is: 4924876.0\n"
     ]
    }
   ],
   "source": [
    "hidden_dim = 24\n",
    "model = Network(hidden_dim)\n",
    "model.train()\n",
    "optimizer = torch.optim.Adam(model.parameters(), lr=3e-4)\n",
    "criterion = torch.nn.HuberLoss()\n",
    "num_epochs = 40\n",
    "for epoch in range(1, num_epochs+1):\n",
    "    epoch_loss = 0\n",
    "    for batch in data_load:\n",
    "#         print('num_graphs:',batch.num_graphs)\n",
    "        score = model(torch.tensor(batch.x, dtype=torch.float) , batch.edge_index, batch.batch)\n",
    "#         print(score.shape, batch.y.view(-1).shape)\n",
    "        loss = criterion(score, batch.y)\n",
    "        loss.backward()\n",
    "        optimizer.step()\n",
    "        optimizer.zero_grad()\n",
    "        epoch_loss+=loss\n",
    "    print(f'Loss at epoch {epoch} is: {epoch_loss}')"
   ]
  },
  {
   "cell_type": "code",
   "execution_count": 8,
   "id": "2af8d419",
   "metadata": {},
   "outputs": [
    {
     "name": "stdout",
     "output_type": "stream",
     "text": [
      "torch.Size([3, 11])\n",
      "tensor(572.2457, grad_fn=<HuberLossBackward0>)\n"
     ]
    },
    {
     "name": "stderr",
     "output_type": "stream",
     "text": [
      "C:\\Users\\harsh\\AppData\\Local\\Temp\\ipykernel_25996\\2205664367.py:4: UserWarning: To copy construct from a tensor, it is recommended to use sourceTensor.clone().detach() or sourceTensor.clone().detach().requires_grad_(True), rather than torch.tensor(sourceTensor).\n",
      "  print(criterion(model(torch.tensor(i.x, dtype=torch.float), i.edge_index, i.batch), i.y))\n"
     ]
    }
   ],
   "source": [
    "model.eval()\n",
    "print(dataset[4].x.shape)\n",
    "for i in DataLoader(torch.utils.data.Subset(dataset, [4])):\n",
    "    print(criterion(model(torch.tensor(i.x, dtype=torch.float), i.edge_index, i.batch), i.y))"
   ]
  },
  {
   "cell_type": "code",
   "execution_count": null,
   "id": "6c95142b",
   "metadata": {},
   "outputs": [],
   "source": []
  }
 ],
 "metadata": {
  "kernelspec": {
   "display_name": "Python 3 (ipykernel)",
   "language": "python",
   "name": "python3"
  },
  "language_info": {
   "codemirror_mode": {
    "name": "ipython",
    "version": 3
   },
   "file_extension": ".py",
   "mimetype": "text/x-python",
   "name": "python",
   "nbconvert_exporter": "python",
   "pygments_lexer": "ipython3",
   "version": "3.9.12"
  }
 },
 "nbformat": 4,
 "nbformat_minor": 5
}
